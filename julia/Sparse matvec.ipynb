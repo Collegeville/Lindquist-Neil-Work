{
 "cells": [
  {
   "cell_type": "code",
   "execution_count": 37,
   "metadata": {},
   "outputs": [
    {
     "data": {
      "text/plain": [
       "mv (generic function with 2 methods)"
      ]
     },
     "execution_count": 37,
     "metadata": {},
     "output_type": "execute_result"
    }
   ],
   "source": [
    "function mv(matrix::SparseMatrixCSC{Float64}, vector::Vector{Float64})\n",
    "    n::Int64 = length(vector)\n",
    "    if n != size(matrix, 2)\n",
    "        error(\"Vector size doesn't match Matrix size\")\n",
    "    end\n",
    "    result = Vector{Float64}(n)\n",
    "    fill!(result, zero(Float64))\n",
    "    \n",
    "    rows = rowvals(matrix)\n",
    "    vals = nonzeros(matrix)\n",
    "    \n",
    "    i = one(Int64)\n",
    "    while i <= n\n",
    "        for j in nzrange(matrix, i)\n",
    "            @inbounds result[rows[j]] += vals[j]*vector[i]\n",
    "        end\n",
    "        i += one(Int64)\n",
    "    end\n",
    "    result\n",
    "end"
   ]
  },
  {
   "cell_type": "code",
   "execution_count": 38,
   "metadata": {
    "scrolled": true
   },
   "outputs": [
    {
     "ename": "LoadError",
     "evalue": "\u001b[91mMethodError: no method matching mv(::SparseMatrixCSC{Int64,Int64}, ::Array{Int64,1})\u001b[39m",
     "output_type": "error",
     "traceback": [
      "\u001b[91mMethodError: no method matching mv(::SparseMatrixCSC{Int64,Int64}, ::Array{Int64,1})\u001b[39m",
      ""
     ]
    }
   ],
   "source": [
    "mv(speye(Int64, 3), Vector([1, 2, 3]))"
   ]
  },
  {
   "cell_type": "code",
   "execution_count": 39,
   "metadata": {},
   "outputs": [
    {
     "name": "stdout",
     "output_type": "stream",
     "text": [
      "  0.000003 seconds (5 allocations: 176 bytes)\n"
     ]
    },
    {
     "data": {
      "text/plain": [
       "0.0"
      ]
     },
     "execution_count": 39,
     "metadata": {},
     "output_type": "execute_result"
    }
   ],
   "source": [
    "#make sure time is compiled and everything\n",
    "@time sin(0)"
   ]
  },
  {
   "cell_type": "code",
   "execution_count": 40,
   "metadata": {},
   "outputs": [
    {
     "name": "stdout",
     "output_type": "stream",
     "text": [
      "matches build-in? = true\n",
      "elapsed time: 5.221729266 seconds\n",
      "elapsed time: 5.392114962 seconds\n"
     ]
    },
    {
     "data": {
      "text/plain": [
       "0"
      ]
     },
     "execution_count": 40,
     "metadata": {},
     "output_type": "execute_result"
    }
   ],
   "source": [
    "n = 4000\n",
    "randA = sprandn(n, n, .05)\n",
    "randx = vec(rand(1, n))\n",
    "\n",
    "\n",
    "println(\"matches build-in? = \", (randA*randx == mv(randA, randx)))\n",
    "\n",
    "tic()\n",
    "for i = 1:n\n",
    "    randA*randx\n",
    "end\n",
    "toc()\n",
    "\n",
    "tic()\n",
    "for i = 1:n\n",
    "    mv(randA, randx)\n",
    "end\n",
    "toc()\n",
    "\n",
    "\n",
    "0"
   ]
  },
  {
   "cell_type": "code",
   "execution_count": null,
   "metadata": {
    "collapsed": true
   },
   "outputs": [],
   "source": []
  }
 ],
 "metadata": {
  "kernelspec": {
   "display_name": "Julia 0.6.0",
   "language": "julia",
   "name": "julia-0.6"
  },
  "language_info": {
   "file_extension": ".jl",
   "mimetype": "application/julia",
   "name": "julia",
   "version": "0.6.0"
  }
 },
 "nbformat": 4,
 "nbformat_minor": 2
}
