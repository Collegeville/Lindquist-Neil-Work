{
 "cells": [
  {
   "cell_type": "code",
   "execution_count": 1,
   "metadata": {},
   "outputs": [
    {
     "name": "stdout",
     "output_type": "stream",
     "text": [
      "0.3.1"
     ]
    }
   ],
   "source": [
    "print(Pkg.installed(\"IterativeSolvers\"))\n",
    "import IterativeSolvers"
   ]
  },
  {
   "cell_type": "code",
   "execution_count": 14,
   "metadata": {},
   "outputs": [
    {
     "data": {
      "text/plain": [
       "CG (generic function with 3 methods)"
      ]
     },
     "execution_count": 14,
     "metadata": {},
     "output_type": "execute_result"
    }
   ],
   "source": [
    "function CG(A, b, tolerance::Float64, x=nothing, M=nothing)\n",
    "    \n",
    "    function dot(a::Vector{Float64}, b::Vector{Float64})\n",
    "        sum::Float64 = 0\n",
    "        \n",
    "        @simd for j = 1:length(a)\n",
    "            @fastmath @inbounds sum += a[j]*b[j]\n",
    "        end\n",
    "        sum\n",
    "    end\n",
    "    n = length(b)\n",
    "    \n",
    "    if x == nothing\n",
    "        x = ones(n)\n",
    "    end\n",
    "    \n",
    "    if !(size(A, 1) == size(A, 2) == n == length(x))\n",
    "        error(\"Size mis-match\")\n",
    "    end\n",
    "        \n",
    "    preconditioned = (M != nothing)\n",
    "    \n",
    "    bNorm::Float64 = norm(b)\n",
    "    \n",
    "    r::Vector{Float64} = b-A*x\n",
    "    \n",
    "    z::Vector{Float64} = r\n",
    "    if preconditioned\n",
    "        z = M\\r\n",
    "    end\n",
    "    p::Vector{Float64} = r\n",
    "    \n",
    "    ρ::Float64 = dot(r, z)\n",
    "    \n",
    "    i::Int64 = 0\n",
    "    while norm(r)/bNorm > tolerance\n",
    "        Ap::Vector{Float64} = A*p #A_mul_B!(Ap, A, p)\n",
    "        α::Float64 = ρ/dot(Ap, p)\n",
    "        @. begin \n",
    "            x += α*p\n",
    "            r -= α*Ap\n",
    "        end\n",
    "        if preconditioned\n",
    "            z = M \\ r\n",
    "        else\n",
    "            z = r\n",
    "        end\n",
    "        ρ₀::Float64 = ρ\n",
    "        ρ = dot(r, z)\n",
    "        #β::Float64 = ρ/ρ₀\n",
    "        p = z + (ρ/ρ₀)*p\n",
    "        \n",
    "        i += 1\n",
    "    end\n",
    "    x\n",
    "end"
   ]
  },
  {
   "cell_type": "code",
   "execution_count": 29,
   "metadata": {
    "scrolled": true
   },
   "outputs": [
    {
     "name": "stdout",
     "output_type": "stream",
     "text": [
      "Iter Solve tol: 4.929620603655484e-16\n",
      "CG's tolerance: 6.564946556109559e-16\n",
      "elapsed time: 78.340530308 seconds\n",
      "elapsed time: 71.748664088 seconds\n"
     ]
    },
    {
     "data": {
      "text/html": [
       "0"
      ],
      "text/plain": [
       "0"
      ]
     },
     "execution_count": 29,
     "metadata": {},
     "output_type": "execute_result"
    }
   ],
   "source": [
    "n = 1000_000\n",
    "#generate a symmetric positive definate matrix to test with\n",
    "A = sprand(n, n, 50/n)\n",
    "A = .5*(A + A') + n*.5*speye(n)\n",
    "\n",
    "x = randn(n)\n",
    "normX = norm(x)\n",
    "b = A*x\n",
    "\n",
    "gc()\n",
    "\n",
    "#println(\"base tolerance: \", norm(A\\b-x)/normX)\n",
    "println(\"Iter Solve tol: \", norm(IterativeSolvers.cg(A, b, tol=1e-16)-x)/normX)\n",
    "gc()\n",
    "println(\"CG's tolerance: \", norm(CG(A, b, 1e-16)-x)/normX)\n",
    "\n",
    "gc()\n",
    "\n",
    "#@time A\\b\n",
    "#@time IterativeSolvers.cg(A, b, tol=1e-16)\n",
    "#gc()\n",
    "#@time CG(A, b, 1e-16)\n",
    "\n",
    "loopCount = 15\n",
    "tic()\n",
    "for i = 1:loopCount\n",
    "    IterativeSolvers.cg(A, b, tol=1e-16)\n",
    "end\n",
    "toc()\n",
    "\n",
    "gc()\n",
    "\n",
    "tic()\n",
    "for i = 1:loopCount\n",
    "    CG(A, b, 1e-16)\n",
    "end\n",
    "toc()\n",
    "\n",
    "0"
   ]
  },
  {
   "cell_type": "code",
   "execution_count": 26,
   "metadata": {},
   "outputs": [
    {
     "name": "stdout",
     "output_type": "stream",
     "text": [
      "Variables:\n",
      "  #self#::#CG\n",
      "  A::SparseMatrixCSC{Float64,Int64}\n",
      "  b::Array{Float64,1}\n",
      "  tolerance::Float64\n",
      "\n",
      "Body:\n",
      "  begin \n",
      "      return $(Expr(:invoke, MethodInstance for CG(::SparseMatrixCSC{Float64,Int64}, ::Array{Float64,1}, ::Float64, ::Void, ::Void), :(#self#), :(A), :(b), :(tolerance), :(Main.nothing), :(Main.nothing)))\n",
      "  end::Array{Float64,1}\n"
     ]
    }
   ],
   "source": [
    "@code_warntype CG(A, b, 1e-6)"
   ]
  }
 ],
 "metadata": {
  "kernelspec": {
   "display_name": "Julia 0.6.0",
   "language": "julia",
   "name": "julia-0.6"
  },
  "language_info": {
   "file_extension": ".jl",
   "mimetype": "application/julia",
   "name": "julia",
   "version": "0.6.0"
  }
 },
 "nbformat": 4,
 "nbformat_minor": 2
}
