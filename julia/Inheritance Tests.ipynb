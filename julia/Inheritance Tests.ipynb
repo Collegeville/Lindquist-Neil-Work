{
 "cells": [
  {
   "cell_type": "code",
   "execution_count": 1,
   "metadata": {},
   "outputs": [
    {
     "data": {
      "text/plain": [
       "get_symbol_name"
      ]
     },
     "execution_count": 1,
     "metadata": {},
     "output_type": "execute_result"
    }
   ],
   "source": [
    "include(\"Inheritance Util.jl\")"
   ]
  },
  {
   "cell_type": "code",
   "execution_count": 2,
   "metadata": {},
   "outputs": [
    {
     "data": {
      "text/plain": [
       "check_fields (generic function with 1 method)"
      ]
     },
     "execution_count": 2,
     "metadata": {},
     "output_type": "execute_result"
    }
   ],
   "source": [
    "function check_fields(typ, target_fieldnames, target_fieldtypes)\n",
    "    println(\"Fields checked for type \", typ)\n",
    "    for (tar, act) in zip(target_fieldnames, fieldnames(typ))\n",
    "        if tar != act\n",
    "            println(tar,\" != \", act)\n",
    "        end\n",
    "    end\n",
    "\n",
    "    for (tar, act) in zip(target_fieldtypes, typ.types)\n",
    "        if tar != act\n",
    "            println(tar,\" != \", act)\n",
    "        end\n",
    "    end\n",
    "end"
   ]
  },
  {
   "cell_type": "code",
   "execution_count": 3,
   "metadata": {},
   "outputs": [
    {
     "name": "stdout",
     "output_type": "stream",
     "text": [
      "Fields checked for type c_child\n",
      "Fields checked for type i_child\n"
     ]
    }
   ],
   "source": [
    "# core inheritance\n",
    "\n",
    "@_abstract root begin\n",
    "    root_val::Int\n",
    "end\n",
    "\n",
    "@_abstract a_child root begin\n",
    "    a_child_val::Char\n",
    "end\n",
    "\n",
    "@_type c_child a_child begin\n",
    "    c_child_val::String\n",
    "end\n",
    "\n",
    "@_immutable i_child a_child begin\n",
    "    i_child_val::Float64\n",
    "end\n",
    "\n",
    "check_fields(c_child,\n",
    "             [:root_val, :a_child_val, :c_child_val],\n",
    "             [Int, Char, String])\n",
    "\n",
    "check_fields(i_child,\n",
    "             [:root_val, :a_child_val, :i_child_val],\n",
    "             [Int, Char, Float64])"
   ]
  },
  {
   "cell_type": "code",
   "execution_count": 4,
   "metadata": {},
   "outputs": [
    {
     "name": "stdout",
     "output_type": "stream",
     "text": [
      "Fields checked for type mi_child\n"
     ]
    }
   ],
   "source": [
    "# multiple inheritance\n",
    "\n",
    "@_abstract root2 begin\n",
    "    root2_val::Int64\n",
    "end\n",
    "\n",
    "@_type mi_child (root, root2) begin\n",
    "    mi_var::Int32\n",
    "end\n",
    "\n",
    "check_fields(mi_child,\n",
    "             [:root_val, :root2_val, :mi_var],\n",
    "             [Int, Int64, Int32])"
   ]
  },
  {
   "cell_type": "code",
   "execution_count": 5,
   "metadata": {},
   "outputs": [
    {
     "name": "stdout",
     "output_type": "stream",
     "text": [
      "Fields checked for type duplicated_var\n"
     ]
    }
   ],
   "source": [
    "# multiple inheritance with duplicated variable\n",
    "\n",
    "@_abstract root3 begin\n",
    "    root_val::Int\n",
    "end\n",
    "\n",
    "@_type duplicated_var (root, root3) begin end\n",
    "\n",
    "check_fields(duplicated_var, [:root_val], [Int])"
   ]
  },
  {
   "cell_type": "code",
   "execution_count": 6,
   "metadata": {},
   "outputs": [
    {
     "ename": "LoadError",
     "evalue": "\u001b[91msyntax: duplicate field name: \"root_val\" is not unique\u001b[39m",
     "output_type": "error",
     "traceback": [
      "\u001b[91msyntax: duplicate field name: \"root_val\" is not unique\u001b[39m",
      ""
     ]
    }
   ],
   "source": [
    "# multiple inheritance with mis-matched duplicated variable\n",
    "# should error\n",
    "\n",
    "@_abstract root4 begin\n",
    "    root_val::Int64\n",
    "end\n",
    "\n",
    "@_type duplicated_var_err (root, root4) begin end\n",
    "\n",
    "check_fields(duplicated_var, [:root_val], [Int])"
   ]
  },
  {
   "cell_type": "code",
   "execution_count": 7,
   "metadata": {},
   "outputs": [
    {
     "name": "stdout",
     "output_type": "stream",
     "text": [
      "f1 Success with type String\n",
      "f2 Success with type String\n"
     ]
    }
   ],
   "source": [
    "# create function generators for dispatch in multiple inheritance\n",
    "\n",
    "@create_function_generator(m2,\n",
    "begin\n",
    "    function f1(arg1::$typ, arg2::Int)\n",
    "        println(\"f1 Success with type \", $typ)\n",
    "    end\n",
    "\n",
    "    function f2(arg1::$typ, arg2::$typ)\n",
    "        println(\"f2 Success with type \", $typ)\n",
    "    end\n",
    "end)\n",
    "\n",
    "@m2 String\n",
    "\n",
    "f1(\"test\", 4)\n",
    "f2(\"test1\", \"test2\")"
   ]
  }
 ],
 "metadata": {
  "kernelspec": {
   "display_name": "Julia 0.6.0",
   "language": "julia",
   "name": "julia-0.6"
  },
  "language_info": {
   "file_extension": ".jl",
   "mimetype": "application/julia",
   "name": "julia",
   "version": "0.6.0"
  }
 },
 "nbformat": 4,
 "nbformat_minor": 2
}
